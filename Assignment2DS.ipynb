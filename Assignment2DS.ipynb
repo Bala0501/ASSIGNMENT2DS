{
  "nbformat": 4,
  "nbformat_minor": 0,
  "metadata": {
    "colab": {
      "name": "Assignment2DS.ipynb",
      "provenance": []
    },
    "kernelspec": {
      "name": "python3",
      "display_name": "Python 3"
    },
    "language_info": {
      "name": "python"
    }
  },
  "cells": [
    {
      "cell_type": "code",
      "metadata": {
        "colab": {
          "base_uri": "https://localhost:8080/"
        },
        "id": "UG2u0UK9yBGd",
        "outputId": "76da1ab2-93ac-4d4c-b3d2-955394118aa0"
      },
      "source": [
        "list1 = [20, 45, 8, 62,51, 93]\n",
        "  \n",
        "for num in list1:\n",
        "    if num % 2 == 0:\n",
        "       print(num, end = \" \")"
      ],
      "execution_count": 3,
      "outputs": [
        {
          "output_type": "stream",
          "name": "stdout",
          "text": [
            "20 8 62 "
          ]
        }
      ]
    }
  ]
}